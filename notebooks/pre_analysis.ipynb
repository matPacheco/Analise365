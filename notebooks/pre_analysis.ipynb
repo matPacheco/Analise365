{
 "cells": [
  {
   "cell_type": "code",
   "execution_count": 9,
   "metadata": {
    "collapsed": true,
    "pycharm": {
     "name": "#%%\n"
    }
   },
   "outputs": [
    {
     "name": "stdout",
     "output_type": "stream",
     "text": [
      "Total de jogos: 1376\n"
     ]
    },
    {
     "data": {
      "text/plain": "          home           away        date  odd_home  odd_tie  odd_away  \\\n0    Newcastle  Wolverhampton  2022-04-08      2.25     3.20      3.40   \n1      Everton        Man Utd  2022-04-09      4.50     3.75      1.75   \n2      Arsenal       Brighton  2022-04-09      1.61     3.80      5.75   \n3  Southampton        Chelsea  2022-04-09      4.00     3.75      1.90   \n4      Watford          Leeds  2022-04-09      2.70     3.40      2.55   \n\n     championship winner  \n0  Premier League   home  \n1  Premier League   home  \n2  Premier League   away  \n3  Premier League   away  \n4  Premier League   away  ",
      "text/html": "<div>\n<style scoped>\n    .dataframe tbody tr th:only-of-type {\n        vertical-align: middle;\n    }\n\n    .dataframe tbody tr th {\n        vertical-align: top;\n    }\n\n    .dataframe thead th {\n        text-align: right;\n    }\n</style>\n<table border=\"1\" class=\"dataframe\">\n  <thead>\n    <tr style=\"text-align: right;\">\n      <th></th>\n      <th>home</th>\n      <th>away</th>\n      <th>date</th>\n      <th>odd_home</th>\n      <th>odd_tie</th>\n      <th>odd_away</th>\n      <th>championship</th>\n      <th>winner</th>\n    </tr>\n  </thead>\n  <tbody>\n    <tr>\n      <th>0</th>\n      <td>Newcastle</td>\n      <td>Wolverhampton</td>\n      <td>2022-04-08</td>\n      <td>2.25</td>\n      <td>3.20</td>\n      <td>3.40</td>\n      <td>Premier League</td>\n      <td>home</td>\n    </tr>\n    <tr>\n      <th>1</th>\n      <td>Everton</td>\n      <td>Man Utd</td>\n      <td>2022-04-09</td>\n      <td>4.50</td>\n      <td>3.75</td>\n      <td>1.75</td>\n      <td>Premier League</td>\n      <td>home</td>\n    </tr>\n    <tr>\n      <th>2</th>\n      <td>Arsenal</td>\n      <td>Brighton</td>\n      <td>2022-04-09</td>\n      <td>1.61</td>\n      <td>3.80</td>\n      <td>5.75</td>\n      <td>Premier League</td>\n      <td>away</td>\n    </tr>\n    <tr>\n      <th>3</th>\n      <td>Southampton</td>\n      <td>Chelsea</td>\n      <td>2022-04-09</td>\n      <td>4.00</td>\n      <td>3.75</td>\n      <td>1.90</td>\n      <td>Premier League</td>\n      <td>away</td>\n    </tr>\n    <tr>\n      <th>4</th>\n      <td>Watford</td>\n      <td>Leeds</td>\n      <td>2022-04-09</td>\n      <td>2.70</td>\n      <td>3.40</td>\n      <td>2.55</td>\n      <td>Premier League</td>\n      <td>away</td>\n    </tr>\n  </tbody>\n</table>\n</div>"
     },
     "execution_count": 9,
     "metadata": {},
     "output_type": "execute_result"
    }
   ],
   "source": [
    "import pandas as pd\n",
    "import numpy as np\n",
    "import matplotlib.pyplot as plt\n",
    "\n",
    "df = pd.read_csv(\"../data/games.csv\")\n",
    "\n",
    "print(\"Total de jogos:\", len(df))\n",
    "\n",
    "df.head()"
   ]
  },
  {
   "cell_type": "code",
   "execution_count": 10,
   "outputs": [],
   "source": [
    "df = df[~df[\"winner\"].isnull()]"
   ],
   "metadata": {
    "collapsed": false,
    "pycharm": {
     "name": "#%%\n"
    }
   }
  },
  {
   "cell_type": "code",
   "execution_count": 11,
   "outputs": [
    {
     "data": {
      "text/plain": "          home           away        date  odd_home  odd_tie  odd_away  \\\n0    Newcastle  Wolverhampton  2022-04-08      2.25     3.20      3.40   \n1      Everton        Man Utd  2022-04-09      4.50     3.75      1.75   \n2      Arsenal       Brighton  2022-04-09      1.61     3.80      5.75   \n3  Southampton        Chelsea  2022-04-09      4.00     3.75      1.90   \n4      Watford          Leeds  2022-04-09      2.70     3.40      2.55   \n\n     championship winner lower  lower_odd  \n0  Premier League   home  home       2.25  \n1  Premier League   home  away       1.75  \n2  Premier League   away  home       1.61  \n3  Premier League   away  away       1.90  \n4  Premier League   away  away       2.55  ",
      "text/html": "<div>\n<style scoped>\n    .dataframe tbody tr th:only-of-type {\n        vertical-align: middle;\n    }\n\n    .dataframe tbody tr th {\n        vertical-align: top;\n    }\n\n    .dataframe thead th {\n        text-align: right;\n    }\n</style>\n<table border=\"1\" class=\"dataframe\">\n  <thead>\n    <tr style=\"text-align: right;\">\n      <th></th>\n      <th>home</th>\n      <th>away</th>\n      <th>date</th>\n      <th>odd_home</th>\n      <th>odd_tie</th>\n      <th>odd_away</th>\n      <th>championship</th>\n      <th>winner</th>\n      <th>lower</th>\n      <th>lower_odd</th>\n    </tr>\n  </thead>\n  <tbody>\n    <tr>\n      <th>0</th>\n      <td>Newcastle</td>\n      <td>Wolverhampton</td>\n      <td>2022-04-08</td>\n      <td>2.25</td>\n      <td>3.20</td>\n      <td>3.40</td>\n      <td>Premier League</td>\n      <td>home</td>\n      <td>home</td>\n      <td>2.25</td>\n    </tr>\n    <tr>\n      <th>1</th>\n      <td>Everton</td>\n      <td>Man Utd</td>\n      <td>2022-04-09</td>\n      <td>4.50</td>\n      <td>3.75</td>\n      <td>1.75</td>\n      <td>Premier League</td>\n      <td>home</td>\n      <td>away</td>\n      <td>1.75</td>\n    </tr>\n    <tr>\n      <th>2</th>\n      <td>Arsenal</td>\n      <td>Brighton</td>\n      <td>2022-04-09</td>\n      <td>1.61</td>\n      <td>3.80</td>\n      <td>5.75</td>\n      <td>Premier League</td>\n      <td>away</td>\n      <td>home</td>\n      <td>1.61</td>\n    </tr>\n    <tr>\n      <th>3</th>\n      <td>Southampton</td>\n      <td>Chelsea</td>\n      <td>2022-04-09</td>\n      <td>4.00</td>\n      <td>3.75</td>\n      <td>1.90</td>\n      <td>Premier League</td>\n      <td>away</td>\n      <td>away</td>\n      <td>1.90</td>\n    </tr>\n    <tr>\n      <th>4</th>\n      <td>Watford</td>\n      <td>Leeds</td>\n      <td>2022-04-09</td>\n      <td>2.70</td>\n      <td>3.40</td>\n      <td>2.55</td>\n      <td>Premier League</td>\n      <td>away</td>\n      <td>away</td>\n      <td>2.55</td>\n    </tr>\n  </tbody>\n</table>\n</div>"
     },
     "execution_count": 11,
     "metadata": {},
     "output_type": "execute_result"
    }
   ],
   "source": [
    "df.loc[df[\"odd_home\"] < df[\"odd_away\"], \"lower\"] = \"home\"\n",
    "df.loc[df[\"odd_home\"] < df[\"odd_away\"], \"lower_odd\"] = df[\"odd_home\"]\n",
    "\n",
    "df.loc[df[\"odd_away\"] < df[\"odd_home\"], \"lower\"] = \"away\"\n",
    "df.loc[df[\"odd_away\"] < df[\"odd_home\"], \"lower_odd\"] = df[\"odd_away\"]\n",
    "\n",
    "df.head()"
   ],
   "metadata": {
    "collapsed": false,
    "pycharm": {
     "name": "#%%\n"
    }
   }
  },
  {
   "cell_type": "code",
   "execution_count": 12,
   "outputs": [
    {
     "name": "stdout",
     "output_type": "stream",
     "text": [
      "Quantidade de jogos: 1055\n",
      "Proporção de empates: 0.2663507109004739\n",
      "Proporção de vitórias casa: 0.43601895734597157\n",
      "Proporção de vitórias visitante: 0.2976303317535545\n"
     ]
    }
   ],
   "source": [
    "print(\"Quantidade de jogos:\", len(df))\n",
    "print(\"Proporção de empates:\", len(df[df[\"winner\"] == \"tie\"])/len(df))\n",
    "print(\"Proporção de vitórias casa:\", len(df[df[\"winner\"] == \"home\"])/len(df))\n",
    "print(\"Proporção de vitórias visitante:\", len(df[df[\"winner\"] == \"away\"])/len(df))"
   ],
   "metadata": {
    "collapsed": false,
    "pycharm": {
     "name": "#%%\n"
    }
   }
  },
  {
   "cell_type": "code",
   "execution_count": 5,
   "outputs": [],
   "source": [
    "df = df[df[\"lower_odd\"] <= 1.7]"
   ],
   "metadata": {
    "collapsed": false,
    "pycharm": {
     "name": "#%%\n"
    }
   }
  },
  {
   "cell_type": "code",
   "execution_count": 13,
   "outputs": [
    {
     "name": "stdout",
     "output_type": "stream",
     "text": [
      "0.5184834123222749\n"
     ]
    },
    {
     "data": {
      "text/plain": "          home           away        date  odd_home  odd_tie  odd_away  \\\n0    Newcastle  Wolverhampton  2022-04-08      2.25     3.20      3.40   \n1      Everton        Man Utd  2022-04-09      4.50     3.75      1.75   \n2      Arsenal       Brighton  2022-04-09      1.61     3.80      5.75   \n3  Southampton        Chelsea  2022-04-09      4.00     3.75      1.90   \n4      Watford          Leeds  2022-04-09      2.70     3.40      2.55   \n\n     championship winner lower  lower_odd  profit  \n0  Premier League   home  home       2.25    6.25  \n1  Premier League   home  away       1.75   -5.00  \n2  Premier League   away  home       1.61   -5.00  \n3  Premier League   away  away       1.90    4.50  \n4  Premier League   away  away       2.55    7.75  ",
      "text/html": "<div>\n<style scoped>\n    .dataframe tbody tr th:only-of-type {\n        vertical-align: middle;\n    }\n\n    .dataframe tbody tr th {\n        vertical-align: top;\n    }\n\n    .dataframe thead th {\n        text-align: right;\n    }\n</style>\n<table border=\"1\" class=\"dataframe\">\n  <thead>\n    <tr style=\"text-align: right;\">\n      <th></th>\n      <th>home</th>\n      <th>away</th>\n      <th>date</th>\n      <th>odd_home</th>\n      <th>odd_tie</th>\n      <th>odd_away</th>\n      <th>championship</th>\n      <th>winner</th>\n      <th>lower</th>\n      <th>lower_odd</th>\n      <th>profit</th>\n    </tr>\n  </thead>\n  <tbody>\n    <tr>\n      <th>0</th>\n      <td>Newcastle</td>\n      <td>Wolverhampton</td>\n      <td>2022-04-08</td>\n      <td>2.25</td>\n      <td>3.20</td>\n      <td>3.40</td>\n      <td>Premier League</td>\n      <td>home</td>\n      <td>home</td>\n      <td>2.25</td>\n      <td>6.25</td>\n    </tr>\n    <tr>\n      <th>1</th>\n      <td>Everton</td>\n      <td>Man Utd</td>\n      <td>2022-04-09</td>\n      <td>4.50</td>\n      <td>3.75</td>\n      <td>1.75</td>\n      <td>Premier League</td>\n      <td>home</td>\n      <td>away</td>\n      <td>1.75</td>\n      <td>-5.00</td>\n    </tr>\n    <tr>\n      <th>2</th>\n      <td>Arsenal</td>\n      <td>Brighton</td>\n      <td>2022-04-09</td>\n      <td>1.61</td>\n      <td>3.80</td>\n      <td>5.75</td>\n      <td>Premier League</td>\n      <td>away</td>\n      <td>home</td>\n      <td>1.61</td>\n      <td>-5.00</td>\n    </tr>\n    <tr>\n      <th>3</th>\n      <td>Southampton</td>\n      <td>Chelsea</td>\n      <td>2022-04-09</td>\n      <td>4.00</td>\n      <td>3.75</td>\n      <td>1.90</td>\n      <td>Premier League</td>\n      <td>away</td>\n      <td>away</td>\n      <td>1.90</td>\n      <td>4.50</td>\n    </tr>\n    <tr>\n      <th>4</th>\n      <td>Watford</td>\n      <td>Leeds</td>\n      <td>2022-04-09</td>\n      <td>2.70</td>\n      <td>3.40</td>\n      <td>2.55</td>\n      <td>Premier League</td>\n      <td>away</td>\n      <td>away</td>\n      <td>2.55</td>\n      <td>7.75</td>\n    </tr>\n  </tbody>\n</table>\n</div>"
     },
     "execution_count": 13,
     "metadata": {},
     "output_type": "execute_result"
    }
   ],
   "source": [
    "df.loc[df[\"winner\"] == df[\"lower\"], \"profit\"] = (5 * df[\"lower_odd\"]) - 5\n",
    "df.loc[df[\"winner\"] != df[\"lower\"], \"profit\"] = -5\n",
    "\n",
    "print(len(df[df[\"winner\"] == df[\"lower\"]])/len(df))\n",
    "\n",
    "df.head()"
   ],
   "metadata": {
    "collapsed": false,
    "pycharm": {
     "name": "#%%\n"
    }
   }
  },
  {
   "cell_type": "code",
   "execution_count": 14,
   "outputs": [
    {
     "data": {
      "text/plain": "1055"
     },
     "execution_count": 14,
     "metadata": {},
     "output_type": "execute_result"
    }
   ],
   "source": [
    "len(df)"
   ],
   "metadata": {
    "collapsed": false,
    "pycharm": {
     "name": "#%%\n"
    }
   }
  },
  {
   "cell_type": "code",
   "execution_count": 15,
   "outputs": [
    {
     "data": {
      "text/plain": "-280.77"
     },
     "execution_count": 15,
     "metadata": {},
     "output_type": "execute_result"
    }
   ],
   "source": [
    "df[\"profit\"].sum()"
   ],
   "metadata": {
    "collapsed": false,
    "pycharm": {
     "name": "#%%\n"
    }
   }
  },
  {
   "cell_type": "code",
   "execution_count": 11,
   "outputs": [
    {
     "data": {
      "text/plain": "                                 profit\nchampionship                           \n1 Divisão A (Bélgica)             2.650\n1HNL (Croatia)                   -7.100\nA-league (Austrália)             -0.350\nAllsvenskan (Suécia)              9.900\nApertura (Bolivia)               -4.250\nBrasileirao                     -39.450\nBundesliga                       -6.900\nBundesliga (Austria)             -7.300\nCampeonato Nacional (Equador)    -0.200\nChampions League                 -2.450\nClausura (México)                -4.300\nConference League                 2.000\nCopa do Brasil                    3.050\nEkstraklasa (Polonia)             7.000\nEliteSérien (Noruega)            -1.450\nEridivisie (Países Baixos)        6.200\nEuropa League                    -3.000\nFirst League (República Tcheca)  -8.000\nJ-league (Japão)                  3.500\nLa Liga                          -9.350\nLibertadores                     -7.350\nLiga 1 (Romênia)                 10.900\nLiga Profesional (Argentina)    -17.050\nLigue 1                          11.350\nMLS                             -15.950\nNB I (Hungria)                    5.350\nPremier Division (Irlanda)        7.450\nPremier League                    0.615\nPremier League (Israel)           0.700\nPrimeira Liga (Portugal)          5.900\nPrimera A (Colombia)              5.750\nPrimera Divisón (Peru)            8.850\nSerie A                          -2.600\nSul-Americana                    -0.850\nSuperliga (Suíça)                 9.200\nSuperliga (Turquia)              16.400\nSuperligaen (Dinamarca)          -5.000\nVeikkausliiga (Finlândia)         4.600",
      "text/html": "<div>\n<style scoped>\n    .dataframe tbody tr th:only-of-type {\n        vertical-align: middle;\n    }\n\n    .dataframe tbody tr th {\n        vertical-align: top;\n    }\n\n    .dataframe thead th {\n        text-align: right;\n    }\n</style>\n<table border=\"1\" class=\"dataframe\">\n  <thead>\n    <tr style=\"text-align: right;\">\n      <th></th>\n      <th>profit</th>\n    </tr>\n    <tr>\n      <th>championship</th>\n      <th></th>\n    </tr>\n  </thead>\n  <tbody>\n    <tr>\n      <th>1 Divisão A (Bélgica)</th>\n      <td>2.650</td>\n    </tr>\n    <tr>\n      <th>1HNL (Croatia)</th>\n      <td>-7.100</td>\n    </tr>\n    <tr>\n      <th>A-league (Austrália)</th>\n      <td>-0.350</td>\n    </tr>\n    <tr>\n      <th>Allsvenskan (Suécia)</th>\n      <td>9.900</td>\n    </tr>\n    <tr>\n      <th>Apertura (Bolivia)</th>\n      <td>-4.250</td>\n    </tr>\n    <tr>\n      <th>Brasileirao</th>\n      <td>-39.450</td>\n    </tr>\n    <tr>\n      <th>Bundesliga</th>\n      <td>-6.900</td>\n    </tr>\n    <tr>\n      <th>Bundesliga (Austria)</th>\n      <td>-7.300</td>\n    </tr>\n    <tr>\n      <th>Campeonato Nacional (Equador)</th>\n      <td>-0.200</td>\n    </tr>\n    <tr>\n      <th>Champions League</th>\n      <td>-2.450</td>\n    </tr>\n    <tr>\n      <th>Clausura (México)</th>\n      <td>-4.300</td>\n    </tr>\n    <tr>\n      <th>Conference League</th>\n      <td>2.000</td>\n    </tr>\n    <tr>\n      <th>Copa do Brasil</th>\n      <td>3.050</td>\n    </tr>\n    <tr>\n      <th>Ekstraklasa (Polonia)</th>\n      <td>7.000</td>\n    </tr>\n    <tr>\n      <th>EliteSérien (Noruega)</th>\n      <td>-1.450</td>\n    </tr>\n    <tr>\n      <th>Eridivisie (Países Baixos)</th>\n      <td>6.200</td>\n    </tr>\n    <tr>\n      <th>Europa League</th>\n      <td>-3.000</td>\n    </tr>\n    <tr>\n      <th>First League (República Tcheca)</th>\n      <td>-8.000</td>\n    </tr>\n    <tr>\n      <th>J-league (Japão)</th>\n      <td>3.500</td>\n    </tr>\n    <tr>\n      <th>La Liga</th>\n      <td>-9.350</td>\n    </tr>\n    <tr>\n      <th>Libertadores</th>\n      <td>-7.350</td>\n    </tr>\n    <tr>\n      <th>Liga 1 (Romênia)</th>\n      <td>10.900</td>\n    </tr>\n    <tr>\n      <th>Liga Profesional (Argentina)</th>\n      <td>-17.050</td>\n    </tr>\n    <tr>\n      <th>Ligue 1</th>\n      <td>11.350</td>\n    </tr>\n    <tr>\n      <th>MLS</th>\n      <td>-15.950</td>\n    </tr>\n    <tr>\n      <th>NB I (Hungria)</th>\n      <td>5.350</td>\n    </tr>\n    <tr>\n      <th>Premier Division (Irlanda)</th>\n      <td>7.450</td>\n    </tr>\n    <tr>\n      <th>Premier League</th>\n      <td>0.615</td>\n    </tr>\n    <tr>\n      <th>Premier League (Israel)</th>\n      <td>0.700</td>\n    </tr>\n    <tr>\n      <th>Primeira Liga (Portugal)</th>\n      <td>5.900</td>\n    </tr>\n    <tr>\n      <th>Primera A (Colombia)</th>\n      <td>5.750</td>\n    </tr>\n    <tr>\n      <th>Primera Divisón (Peru)</th>\n      <td>8.850</td>\n    </tr>\n    <tr>\n      <th>Serie A</th>\n      <td>-2.600</td>\n    </tr>\n    <tr>\n      <th>Sul-Americana</th>\n      <td>-0.850</td>\n    </tr>\n    <tr>\n      <th>Superliga (Suíça)</th>\n      <td>9.200</td>\n    </tr>\n    <tr>\n      <th>Superliga (Turquia)</th>\n      <td>16.400</td>\n    </tr>\n    <tr>\n      <th>Superligaen (Dinamarca)</th>\n      <td>-5.000</td>\n    </tr>\n    <tr>\n      <th>Veikkausliiga (Finlândia)</th>\n      <td>4.600</td>\n    </tr>\n  </tbody>\n</table>\n</div>"
     },
     "execution_count": 11,
     "metadata": {},
     "output_type": "execute_result"
    }
   ],
   "source": [
    "df[[\"championship\", \"profit\"]].groupby(\"championship\").sum()"
   ],
   "metadata": {
    "collapsed": false,
    "pycharm": {
     "name": "#%%\n"
    }
   }
  },
  {
   "cell_type": "code",
   "execution_count": 76,
   "outputs": [
    {
     "data": {
      "text/plain": "championship               winner\n1 Divisão A (Bélgica)      tie       2\n                           home      2\n1HNL (Croatia)             home      5\n                           tie       4\n                           away      2\n                                    ..\nSuperligaen (Dinamarca)    away      6\n                           home      4\n                           tie       2\nVeikkausliiga (Finlândia)  home      8\n                           away      4\nLength: 117, dtype: int64"
     },
     "execution_count": 76,
     "metadata": {},
     "output_type": "execute_result"
    }
   ],
   "source": [
    "df[[\"championship\", \"winner\"]].groupby(\"championship\").value_counts()"
   ],
   "metadata": {
    "collapsed": false,
    "pycharm": {
     "name": "#%%\n"
    }
   }
  },
  {
   "cell_type": "code",
   "execution_count": 77,
   "outputs": [
    {
     "data": {
      "text/plain": "            profit\ndate              \n2022-04-08  19.100\n2022-04-09  19.800\n2022-04-10  -0.950\n2022-04-11  -4.500\n2022-04-12  14.400\n2022-04-13  -4.250\n2022-04-14 -13.150\n2022-04-15  -6.850\n2022-04-16   5.100\n2022-04-17  12.500\n2022-04-18 -15.000\n2022-04-19   2.250\n2022-04-20 -17.200\n2022-04-21  -6.750\n2022-04-22   7.850\n2022-04-23 -19.535\n2022-04-24 -23.650\n2022-04-25  28.500\n2022-04-26 -17.350\n2022-04-27 -13.600\n2022-04-28 -10.950\n2022-04-29  37.850\n2022-04-30 -31.300\n2022-05-01 -58.950\n2022-05-02   0.300\n2022-05-03   3.500",
      "text/html": "<div>\n<style scoped>\n    .dataframe tbody tr th:only-of-type {\n        vertical-align: middle;\n    }\n\n    .dataframe tbody tr th {\n        vertical-align: top;\n    }\n\n    .dataframe thead th {\n        text-align: right;\n    }\n</style>\n<table border=\"1\" class=\"dataframe\">\n  <thead>\n    <tr style=\"text-align: right;\">\n      <th></th>\n      <th>profit</th>\n    </tr>\n    <tr>\n      <th>date</th>\n      <th></th>\n    </tr>\n  </thead>\n  <tbody>\n    <tr>\n      <th>2022-04-08</th>\n      <td>19.100</td>\n    </tr>\n    <tr>\n      <th>2022-04-09</th>\n      <td>19.800</td>\n    </tr>\n    <tr>\n      <th>2022-04-10</th>\n      <td>-0.950</td>\n    </tr>\n    <tr>\n      <th>2022-04-11</th>\n      <td>-4.500</td>\n    </tr>\n    <tr>\n      <th>2022-04-12</th>\n      <td>14.400</td>\n    </tr>\n    <tr>\n      <th>2022-04-13</th>\n      <td>-4.250</td>\n    </tr>\n    <tr>\n      <th>2022-04-14</th>\n      <td>-13.150</td>\n    </tr>\n    <tr>\n      <th>2022-04-15</th>\n      <td>-6.850</td>\n    </tr>\n    <tr>\n      <th>2022-04-16</th>\n      <td>5.100</td>\n    </tr>\n    <tr>\n      <th>2022-04-17</th>\n      <td>12.500</td>\n    </tr>\n    <tr>\n      <th>2022-04-18</th>\n      <td>-15.000</td>\n    </tr>\n    <tr>\n      <th>2022-04-19</th>\n      <td>2.250</td>\n    </tr>\n    <tr>\n      <th>2022-04-20</th>\n      <td>-17.200</td>\n    </tr>\n    <tr>\n      <th>2022-04-21</th>\n      <td>-6.750</td>\n    </tr>\n    <tr>\n      <th>2022-04-22</th>\n      <td>7.850</td>\n    </tr>\n    <tr>\n      <th>2022-04-23</th>\n      <td>-19.535</td>\n    </tr>\n    <tr>\n      <th>2022-04-24</th>\n      <td>-23.650</td>\n    </tr>\n    <tr>\n      <th>2022-04-25</th>\n      <td>28.500</td>\n    </tr>\n    <tr>\n      <th>2022-04-26</th>\n      <td>-17.350</td>\n    </tr>\n    <tr>\n      <th>2022-04-27</th>\n      <td>-13.600</td>\n    </tr>\n    <tr>\n      <th>2022-04-28</th>\n      <td>-10.950</td>\n    </tr>\n    <tr>\n      <th>2022-04-29</th>\n      <td>37.850</td>\n    </tr>\n    <tr>\n      <th>2022-04-30</th>\n      <td>-31.300</td>\n    </tr>\n    <tr>\n      <th>2022-05-01</th>\n      <td>-58.950</td>\n    </tr>\n    <tr>\n      <th>2022-05-02</th>\n      <td>0.300</td>\n    </tr>\n    <tr>\n      <th>2022-05-03</th>\n      <td>3.500</td>\n    </tr>\n  </tbody>\n</table>\n</div>"
     },
     "execution_count": 77,
     "metadata": {},
     "output_type": "execute_result"
    }
   ],
   "source": [
    "df[[\"date\", \"profit\"]].groupby(\"date\").sum()"
   ],
   "metadata": {
    "collapsed": false,
    "pycharm": {
     "name": "#%%\n"
    }
   }
  },
  {
   "cell_type": "code",
   "execution_count": 78,
   "outputs": [
    {
     "name": "stdout",
     "output_type": "stream",
     "text": [
      "Minimum value: 1.083\n",
      "Maximum value: 2.87\n"
     ]
    }
   ],
   "source": [
    "print(\"Minimum value:\", df[\"lower_odd\"].min())\n",
    "print(\"Maximum value:\", df[\"lower_odd\"].max())"
   ],
   "metadata": {
    "collapsed": false,
    "pycharm": {
     "name": "#%%\n"
    }
   }
  },
  {
   "cell_type": "code",
   "execution_count": 79,
   "outputs": [
    {
     "data": {
      "text/plain": "   odd  profit_min  profit_max\n0  1.0     -77.835       0.000\n1  1.1     -78.700       0.865\n2  1.2     -81.700       3.865\n3  1.3     -48.700     -29.135\n4  1.4     -67.000     -10.835",
      "text/html": "<div>\n<style scoped>\n    .dataframe tbody tr th:only-of-type {\n        vertical-align: middle;\n    }\n\n    .dataframe tbody tr th {\n        vertical-align: top;\n    }\n\n    .dataframe thead th {\n        text-align: right;\n    }\n</style>\n<table border=\"1\" class=\"dataframe\">\n  <thead>\n    <tr style=\"text-align: right;\">\n      <th></th>\n      <th>odd</th>\n      <th>profit_min</th>\n      <th>profit_max</th>\n    </tr>\n  </thead>\n  <tbody>\n    <tr>\n      <th>0</th>\n      <td>1.0</td>\n      <td>-77.835</td>\n      <td>0.000</td>\n    </tr>\n    <tr>\n      <th>1</th>\n      <td>1.1</td>\n      <td>-78.700</td>\n      <td>0.865</td>\n    </tr>\n    <tr>\n      <th>2</th>\n      <td>1.2</td>\n      <td>-81.700</td>\n      <td>3.865</td>\n    </tr>\n    <tr>\n      <th>3</th>\n      <td>1.3</td>\n      <td>-48.700</td>\n      <td>-29.135</td>\n    </tr>\n    <tr>\n      <th>4</th>\n      <td>1.4</td>\n      <td>-67.000</td>\n      <td>-10.835</td>\n    </tr>\n  </tbody>\n</table>\n</div>"
     },
     "execution_count": 79,
     "metadata": {},
     "output_type": "execute_result"
    }
   ],
   "source": [
    "profits = []\n",
    "for odd in np.arange(1, 2.6, step=0.1):\n",
    "    aux_min = df[df[\"lower_odd\"] > odd]\n",
    "    aux_max = df[df[\"lower_odd\"] < odd]\n",
    "    profits.append({\n",
    "        \"odd\": odd,\n",
    "        \"profit_min\": aux_min[\"profit\"].sum(),\n",
    "        \"profit_max\": aux_max[\"profit\"].sum(),\n",
    "    })\n",
    "profits = pd.DataFrame(profits)\n",
    "profits.head()"
   ],
   "metadata": {
    "collapsed": false,
    "pycharm": {
     "name": "#%%\n"
    }
   }
  },
  {
   "cell_type": "code",
   "execution_count": 80,
   "outputs": [
    {
     "data": {
      "text/plain": "<Figure size 1800x576 with 2 Axes>",
      "image/png": "[encoded data removed]"
     },
     "metadata": {
      "needs_background": "light"
     },
     "output_type": "display_data"
    }
   ],
   "source": [
    "plt.figure(figsize=(25, 8))\n",
    "plt.subplot(1, 2, 1)\n",
    "plt.plot(profits[\"odd\"], profits[\"profit_min\"])\n",
    "plt.xlabel(\"Odd mínima\")\n",
    "plt.ylabel(\"Lucro\")\n",
    "plt.grid()\n",
    "\n",
    "plt.subplot(1, 2, 2)\n",
    "plt.plot(profits[\"odd\"], profits[\"profit_max\"])\n",
    "plt.xlabel(\"Odd máxima\")\n",
    "plt.grid()\n",
    "plt.show()"
   ],
   "metadata": {
    "collapsed": false,
    "pycharm": {
     "name": "#%%\n"
    }
   }
  },
  {
   "cell_type": "code",
   "execution_count": 81,
   "outputs": [
    {
     "data": {
      "text/plain": "    odd  profit_min  profit_max\n15  2.5        48.6    -126.435",
      "text/html": "<div>\n<style scoped>\n    .dataframe tbody tr th:only-of-type {\n        vertical-align: middle;\n    }\n\n    .dataframe tbody tr th {\n        vertical-align: top;\n    }\n\n    .dataframe thead th {\n        text-align: right;\n    }\n</style>\n<table border=\"1\" class=\"dataframe\">\n  <thead>\n    <tr style=\"text-align: right;\">\n      <th></th>\n      <th>odd</th>\n      <th>profit_min</th>\n      <th>profit_max</th>\n    </tr>\n  </thead>\n  <tbody>\n    <tr>\n      <th>15</th>\n      <td>2.5</td>\n      <td>48.6</td>\n      <td>-126.435</td>\n    </tr>\n  </tbody>\n</table>\n</div>"
     },
     "execution_count": 81,
     "metadata": {},
     "output_type": "execute_result"
    }
   ],
   "source": [
    "profits[profits[\"profit_min\"] == profits[\"profit_min\"].max()]"
   ],
   "metadata": {
    "collapsed": false,
    "pycharm": {
     "name": "#%%\n"
    }
   }
  },
  {
   "cell_type": "code",
   "execution_count": 82,
   "outputs": [
    {
     "data": {
      "text/plain": "                                 profit\nchampionship                           \n1 Divisão A (Bélgica)            -0.850\n1HNL (Croatia)                   -8.300\nA-league (Austrália)              8.500\nAllsvenskan (Suécia)              1.100\nApertura (Bolivia)               -9.450\nApertura (Uruguai)                7.350\nBrasileirao                       0.550\nBundesliga                      -26.900\nBundesliga (Austria)             -8.950\nCampeonato Nacional (Equador)    19.300\nChampions League                 -7.450\nClausura (México)               -39.550\nConference League                 4.000\nCopa do Brasil                    9.800\nEkstraklasa (Polonia)           -20.800\nEliteSérien (Noruega)           -14.750\nEridivisie (Países Baixos)        4.050\nEuropa League                    -8.500\nFirst League (República Tcheca)  -9.650\nJ-league (Japão)                  0.500\nLa Liga                         -27.100\nLibertadores                      3.900\nLiga 1 (Romênia)                 34.150\nLiga Profesional (Argentina)    -37.800\nLigue 1                          17.800\nMLS                              18.500\nNB I (Hungria)                  -13.200\nPremier Division (Irlanda)       21.500\nPremier League                    3.915\nPremier League (Israel)         -28.050\nPrimeira Divisão (Chile)          2.850\nPrimeira Liga (Portugal)        -20.400\nPrimera A (Colombia)              1.250\nPrimera Divisón (Peru)            0.500\nSerie A                         -16.800\nSul-Americana                    11.000\nSuperliga (Suíça)                16.050\nSuperliga (Turquia)             -14.400\nSuperligaen (Dinamarca)           1.250\nVeikkausliiga (Finlândia)        28.400",
      "text/html": "<div>\n<style scoped>\n    .dataframe tbody tr th:only-of-type {\n        vertical-align: middle;\n    }\n\n    .dataframe tbody tr th {\n        vertical-align: top;\n    }\n\n    .dataframe thead th {\n        text-align: right;\n    }\n</style>\n<table border=\"1\" class=\"dataframe\">\n  <thead>\n    <tr style=\"text-align: right;\">\n      <th></th>\n      <th>profit</th>\n    </tr>\n    <tr>\n      <th>championship</th>\n      <th></th>\n    </tr>\n  </thead>\n  <tbody>\n    <tr>\n      <th>1 Divisão A (Bélgica)</th>\n      <td>-0.850</td>\n    </tr>\n    <tr>\n      <th>1HNL (Croatia)</th>\n      <td>-8.300</td>\n    </tr>\n    <tr>\n      <th>A-league (Austrália)</th>\n      <td>8.500</td>\n    </tr>\n    <tr>\n      <th>Allsvenskan (Suécia)</th>\n      <td>1.100</td>\n    </tr>\n    <tr>\n      <th>Apertura (Bolivia)</th>\n      <td>-9.450</td>\n    </tr>\n    <tr>\n      <th>Apertura (Uruguai)</th>\n      <td>7.350</td>\n    </tr>\n    <tr>\n      <th>Brasileirao</th>\n      <td>0.550</td>\n    </tr>\n    <tr>\n      <th>Bundesliga</th>\n      <td>-26.900</td>\n    </tr>\n    <tr>\n      <th>Bundesliga (Austria)</th>\n      <td>-8.950</td>\n    </tr>\n    <tr>\n      <th>Campeonato Nacional (Equador)</th>\n      <td>19.300</td>\n    </tr>\n    <tr>\n      <th>Champions League</th>\n      <td>-7.450</td>\n    </tr>\n    <tr>\n      <th>Clausura (México)</th>\n      <td>-39.550</td>\n    </tr>\n    <tr>\n      <th>Conference League</th>\n      <td>4.000</td>\n    </tr>\n    <tr>\n      <th>Copa do Brasil</th>\n      <td>9.800</td>\n    </tr>\n    <tr>\n      <th>Ekstraklasa (Polonia)</th>\n      <td>-20.800</td>\n    </tr>\n    <tr>\n      <th>EliteSérien (Noruega)</th>\n      <td>-14.750</td>\n    </tr>\n    <tr>\n      <th>Eridivisie (Países Baixos)</th>\n      <td>4.050</td>\n    </tr>\n    <tr>\n      <th>Europa League</th>\n      <td>-8.500</td>\n    </tr>\n    <tr>\n      <th>First League (República Tcheca)</th>\n      <td>-9.650</td>\n    </tr>\n    <tr>\n      <th>J-league (Japão)</th>\n      <td>0.500</td>\n    </tr>\n    <tr>\n      <th>La Liga</th>\n      <td>-27.100</td>\n    </tr>\n    <tr>\n      <th>Libertadores</th>\n      <td>3.900</td>\n    </tr>\n    <tr>\n      <th>Liga 1 (Romênia)</th>\n      <td>34.150</td>\n    </tr>\n    <tr>\n      <th>Liga Profesional (Argentina)</th>\n      <td>-37.800</td>\n    </tr>\n    <tr>\n      <th>Ligue 1</th>\n      <td>17.800</td>\n    </tr>\n    <tr>\n      <th>MLS</th>\n      <td>18.500</td>\n    </tr>\n    <tr>\n      <th>NB I (Hungria)</th>\n      <td>-13.200</td>\n    </tr>\n    <tr>\n      <th>Premier Division (Irlanda)</th>\n      <td>21.500</td>\n    </tr>\n    <tr>\n      <th>Premier League</th>\n      <td>3.915</td>\n    </tr>\n    <tr>\n      <th>Premier League (Israel)</th>\n      <td>-28.050</td>\n    </tr>\n    <tr>\n      <th>Primeira Divisão (Chile)</th>\n      <td>2.850</td>\n    </tr>\n    <tr>\n      <th>Primeira Liga (Portugal)</th>\n      <td>-20.400</td>\n    </tr>\n    <tr>\n      <th>Primera A (Colombia)</th>\n      <td>1.250</td>\n    </tr>\n    <tr>\n      <th>Primera Divisón (Peru)</th>\n      <td>0.500</td>\n    </tr>\n    <tr>\n      <th>Serie A</th>\n      <td>-16.800</td>\n    </tr>\n    <tr>\n      <th>Sul-Americana</th>\n      <td>11.000</td>\n    </tr>\n    <tr>\n      <th>Superliga (Suíça)</th>\n      <td>16.050</td>\n    </tr>\n    <tr>\n      <th>Superliga (Turquia)</th>\n      <td>-14.400</td>\n    </tr>\n    <tr>\n      <th>Superligaen (Dinamarca)</th>\n      <td>1.250</td>\n    </tr>\n    <tr>\n      <th>Veikkausliiga (Finlândia)</th>\n      <td>28.400</td>\n    </tr>\n  </tbody>\n</table>\n</div>"
     },
     "execution_count": 82,
     "metadata": {},
     "output_type": "execute_result"
    }
   ],
   "source": [
    "df = df[df[\"lower_odd\"] < 2.4]\n",
    "df[[\"championship\", \"profit\"]].groupby(\"championship\").sum()"
   ],
   "metadata": {
    "collapsed": false,
    "pycharm": {
     "name": "#%%\n"
    }
   }
  },
  {
   "cell_type": "code",
   "execution_count": 83,
   "outputs": [
    {
     "data": {
      "text/plain": "-96.68499999999997"
     },
     "execution_count": 83,
     "metadata": {},
     "output_type": "execute_result"
    }
   ],
   "source": [
    "df[\"profit\"].sum()"
   ],
   "metadata": {
    "collapsed": false,
    "pycharm": {
     "name": "#%%\n"
    }
   }
  },
  {
   "cell_type": "code",
   "execution_count": 83,
   "outputs": [],
   "source": [],
   "metadata": {
    "collapsed": false,
    "pycharm": {
     "name": "#%%\n"
    }
   }
  }
 ],
 "metadata": {
  "kernelspec": {
   "display_name": "Python 3",
   "language": "python",
   "name": "python3"
  },
  "language_info": {
   "codemirror_mode": {
    "name": "ipython",
    "version": 2
   },
   "file_extension": ".py",
   "mimetype": "text/x-python",
   "name": "python",
   "nbconvert_exporter": "python",
   "pygments_lexer": "ipython2",
   "version": "2.7.6"
  }
 },
 "nbformat": 4,
 "nbformat_minor": 0
}